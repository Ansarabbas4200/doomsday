{
 "cells": [
  {
   "cell_type": "code",
   "execution_count": 17,
   "metadata": {},
   "outputs": [
    {
     "name": "stdout",
     "output_type": "stream",
     "text": [
      "[[0 1 0 0 0 1]\n",
      " [4 0 0 3 2 0]\n",
      " [0 0 0 0 0 0]\n",
      " [0 0 0 0 0 0]\n",
      " [0 0 0 0 0 0]\n",
      " [0 0 0 0 0 0]]\n",
      "[ 0  3  2  9 14]\n"
     ]
    }
   ],
   "source": [
    "import numpy as np\n",
    "\n",
    "# Returns indexes of active & terminal states\n",
    "def detect_states(matrix):\n",
    "    active, terminal = [], []\n",
    "    for rowN, row in enumerate(matrix):\n",
    "        (active if sum(row) else terminal).append(rowN)\n",
    "    return(active,terminal)\n",
    "\n",
    "# Convert elements of array in simplest form\n",
    "def simplest_form(B):\n",
    "    B = B.round().astype(int).A1                \n",
    "    gcd = np.gcd.reduce(B)\n",
    "    B = np.append(B, B.sum())                      \n",
    "    return (B / gcd).astype(int)\n",
    "\n",
    "# Finds solution by calculating Absorbing probabilities\n",
    "def solution(m):\n",
    "    active, terminal = detect_states(m)\n",
    "    if 0 in terminal:                              \n",
    "        return [1] + [0]*len(terminal[1:]) + [1]\n",
    "    m = np.matrix(m, dtype=float)[active, :]       \n",
    "    comm_denom = np.prod(m.sum(1))                 \n",
    "    P = m / m.sum(1)                               \n",
    "    Q, R = P[:, active], P[:, terminal]            \n",
    "    I = np.identity(len(Q))\n",
    "    N = (I - Q) ** (-1)                           \n",
    "    B = N[0] * R * comm_denom / np.linalg.det(N)   \n",
    "    return simplest_form(B)\n",
    "\n",
    "\n",
    "inner_voice = [[0, 1, 0, 0, 0, 1], [4, 0, 0, 3, 2, 0], [0, 0, 0, 0, 0, 0], [0, 0, 0, 0, 0, 0], [0,\n",
    "0, 0, 0, 0, 0], [0, 0, 0, 0, 0, 0]]\n",
    "\n",
    "print(np.array(inner_voice))\n",
    "\n",
    "print(solution(inner_voice))\n"
   ]
  },
  {
   "cell_type": "code",
   "execution_count": null,
   "metadata": {},
   "outputs": [],
   "source": []
  },
  {
   "cell_type": "code",
   "execution_count": 6,
   "metadata": {},
   "outputs": [],
   "source": [
    "# from flask import Flask, request, render_template\n",
    "\n",
    "# app = Flask(__name__)\n",
    "# app.config['SECRET_KEY'] = \"ansar\"\n",
    "\n",
    "# @app.route('/', methods = [\"GET\", \"POST\"])\n",
    "# def home():\n",
    "#     if \"fname\" in request.form:\n",
    "#         form_input = request.form['fname']\n",
    "    "
   ]
  },
  {
   "cell_type": "code",
   "execution_count": null,
   "metadata": {},
   "outputs": [],
   "source": []
  }
 ],
 "metadata": {
  "kernelspec": {
   "display_name": "base",
   "language": "python",
   "name": "python3"
  },
  "language_info": {
   "codemirror_mode": {
    "name": "ipython",
    "version": 3
   },
   "file_extension": ".py",
   "mimetype": "text/x-python",
   "name": "python",
   "nbconvert_exporter": "python",
   "pygments_lexer": "ipython3",
   "version": "3.9.13"
  },
  "orig_nbformat": 4
 },
 "nbformat": 4,
 "nbformat_minor": 2
}
