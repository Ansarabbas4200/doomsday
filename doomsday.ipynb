{
 "cells": [
  {
   "cell_type": "code",
   "execution_count": null,
   "metadata": {},
   "outputs": [],
   "source": [
    "import numpy as np\n",
    "\n",
    "def solution(m):\n",
    "    m = np.array(m)\n",
    "    fm = np.linalg.inv(np.identity(m.shape[0]) - m)\n",
    "    \n",
    "    absorbing_states = np.where(np.diag(m) == 1)[0]\n",
    "    p = fm[absorbing_states,:][:,absorbing_states]\n",
    "    numerator = p[0]\n",
    "    denominator = numerator.sum()\n",
    "    for i in range(numerator.size):\n",
    "        if numerator[i] % denominator == 0:\n",
    "            numerator[i] = numerator[i] // denominator\n",
    "            denominator = 1\n",
    "            \n",
    "    numerator = numerator.tolist()\n",
    "    numerator.append(denominator)\n",
    "    return numerator\n"
   ]
  }
 ],
 "metadata": {
  "language_info": {
   "name": "python"
  },
  "orig_nbformat": 4
 },
 "nbformat": 4,
 "nbformat_minor": 2
}
